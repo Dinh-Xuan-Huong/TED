{
  "nbformat": 4,
  "nbformat_minor": 0,
  "metadata": {
    "colab": {
      "name": "TED_youtube_scrape.ipynb",
      "provenance": [],
      "collapsed_sections": [],
      "authorship_tag": "ABX9TyMpf5TbMszwCLb5V+4+xYlS",
      "include_colab_link": true
    },
    "kernelspec": {
      "name": "python3",
      "display_name": "Python 3"
    }
  },
  "cells": [
    {
      "cell_type": "markdown",
      "metadata": {
        "id": "view-in-github",
        "colab_type": "text"
      },
      "source": [
        "<a href=\"https://colab.research.google.com/github/Dinh-Xuan-Huong/TED/blob/main/TED_youtube_scrape.ipynb\" target=\"_parent\"><img src=\"https://colab.research.google.com/assets/colab-badge.svg\" alt=\"Open In Colab\"/></a>"
      ]
    },
    {
      "cell_type": "code",
      "metadata": {
        "id": "Xk6V9EroFr0v",
        "colab": {
          "base_uri": "https://localhost:8080/"
        },
        "outputId": "0d7ddfa5-a060-4aa3-f1f2-ae0a579a1d78"
      },
      "source": [
        "from google.colab import drive\n",
        "drive.mount('/content/drive')"
      ],
      "execution_count": null,
      "outputs": [
        {
          "output_type": "stream",
          "text": [
            "Mounted at /content/drive\n"
          ],
          "name": "stdout"
        }
      ]
    },
    {
      "cell_type": "code",
      "metadata": {
        "id": "fPyNxBLzHNkE"
      },
      "source": [
        "import os\n",
        "os.makedirs('/content/drive/My Drive/TED/TED_scraping')\n",
        "os.chdir('/content/drive/My Drive/TED/TED_scraping')\n",
        "os.makedirs('./data')"
      ],
      "execution_count": null,
      "outputs": []
    },
    {
      "cell_type": "code",
      "metadata": {
        "id": "s3vIeH_gHls1",
        "colab": {
          "base_uri": "https://localhost:8080/"
        },
        "outputId": "5d53dcc7-0831-4c84-eab4-a06fb606553f"
      },
      "source": [
        "!pip install selenium\n",
        "!apt-get update \n",
        "!apt install -y chromium-chromedriver"
      ],
      "execution_count": null,
      "outputs": [
        {
          "output_type": "stream",
          "text": [
            "Collecting selenium\n",
            "\u001b[?25l  Downloading https://files.pythonhosted.org/packages/80/d6/4294f0b4bce4de0abf13e17190289f9d0613b0a44e5dd6a7f5ca98459853/selenium-3.141.0-py2.py3-none-any.whl (904kB)\n",
            "\r\u001b[K     |▍                               | 10kB 19.6MB/s eta 0:00:01\r\u001b[K     |▊                               | 20kB 25.1MB/s eta 0:00:01\r\u001b[K     |█                               | 30kB 16.6MB/s eta 0:00:01\r\u001b[K     |█▌                              | 40kB 15.5MB/s eta 0:00:01\r\u001b[K     |█▉                              | 51kB 16.7MB/s eta 0:00:01\r\u001b[K     |██▏                             | 61kB 17.0MB/s eta 0:00:01\r\u001b[K     |██▌                             | 71kB 15.5MB/s eta 0:00:01\r\u001b[K     |███                             | 81kB 14.3MB/s eta 0:00:01\r\u001b[K     |███▎                            | 92kB 13.1MB/s eta 0:00:01\r\u001b[K     |███▋                            | 102kB 12.8MB/s eta 0:00:01\r\u001b[K     |████                            | 112kB 12.8MB/s eta 0:00:01\r\u001b[K     |████▍                           | 122kB 12.8MB/s eta 0:00:01\r\u001b[K     |████▊                           | 133kB 12.8MB/s eta 0:00:01\r\u001b[K     |█████                           | 143kB 12.8MB/s eta 0:00:01\r\u001b[K     |█████▍                          | 153kB 12.8MB/s eta 0:00:01\r\u001b[K     |█████▉                          | 163kB 12.8MB/s eta 0:00:01\r\u001b[K     |██████▏                         | 174kB 12.8MB/s eta 0:00:01\r\u001b[K     |██████▌                         | 184kB 12.8MB/s eta 0:00:01\r\u001b[K     |██████▉                         | 194kB 12.8MB/s eta 0:00:01\r\u001b[K     |███████▎                        | 204kB 12.8MB/s eta 0:00:01\r\u001b[K     |███████▋                        | 215kB 12.8MB/s eta 0:00:01\r\u001b[K     |████████                        | 225kB 12.8MB/s eta 0:00:01\r\u001b[K     |████████▎                       | 235kB 12.8MB/s eta 0:00:01\r\u001b[K     |████████▊                       | 245kB 12.8MB/s eta 0:00:01\r\u001b[K     |█████████                       | 256kB 12.8MB/s eta 0:00:01\r\u001b[K     |█████████▍                      | 266kB 12.8MB/s eta 0:00:01\r\u001b[K     |█████████▉                      | 276kB 12.8MB/s eta 0:00:01\r\u001b[K     |██████████▏                     | 286kB 12.8MB/s eta 0:00:01\r\u001b[K     |██████████▌                     | 296kB 12.8MB/s eta 0:00:01\r\u001b[K     |██████████▉                     | 307kB 12.8MB/s eta 0:00:01\r\u001b[K     |███████████▎                    | 317kB 12.8MB/s eta 0:00:01\r\u001b[K     |███████████▋                    | 327kB 12.8MB/s eta 0:00:01\r\u001b[K     |████████████                    | 337kB 12.8MB/s eta 0:00:01\r\u001b[K     |████████████▎                   | 348kB 12.8MB/s eta 0:00:01\r\u001b[K     |████████████▊                   | 358kB 12.8MB/s eta 0:00:01\r\u001b[K     |█████████████                   | 368kB 12.8MB/s eta 0:00:01\r\u001b[K     |█████████████▍                  | 378kB 12.8MB/s eta 0:00:01\r\u001b[K     |█████████████▊                  | 389kB 12.8MB/s eta 0:00:01\r\u001b[K     |██████████████▏                 | 399kB 12.8MB/s eta 0:00:01\r\u001b[K     |██████████████▌                 | 409kB 12.8MB/s eta 0:00:01\r\u001b[K     |██████████████▉                 | 419kB 12.8MB/s eta 0:00:01\r\u001b[K     |███████████████▏                | 430kB 12.8MB/s eta 0:00:01\r\u001b[K     |███████████████▋                | 440kB 12.8MB/s eta 0:00:01\r\u001b[K     |████████████████                | 450kB 12.8MB/s eta 0:00:01\r\u001b[K     |████████████████▎               | 460kB 12.8MB/s eta 0:00:01\r\u001b[K     |████████████████▋               | 471kB 12.8MB/s eta 0:00:01\r\u001b[K     |█████████████████               | 481kB 12.8MB/s eta 0:00:01\r\u001b[K     |█████████████████▍              | 491kB 12.8MB/s eta 0:00:01\r\u001b[K     |█████████████████▊              | 501kB 12.8MB/s eta 0:00:01\r\u001b[K     |██████████████████▏             | 512kB 12.8MB/s eta 0:00:01\r\u001b[K     |██████████████████▌             | 522kB 12.8MB/s eta 0:00:01\r\u001b[K     |██████████████████▉             | 532kB 12.8MB/s eta 0:00:01\r\u001b[K     |███████████████████▏            | 542kB 12.8MB/s eta 0:00:01\r\u001b[K     |███████████████████▋            | 552kB 12.8MB/s eta 0:00:01\r\u001b[K     |████████████████████            | 563kB 12.8MB/s eta 0:00:01\r\u001b[K     |████████████████████▎           | 573kB 12.8MB/s eta 0:00:01\r\u001b[K     |████████████████████▋           | 583kB 12.8MB/s eta 0:00:01\r\u001b[K     |█████████████████████           | 593kB 12.8MB/s eta 0:00:01\r\u001b[K     |█████████████████████▍          | 604kB 12.8MB/s eta 0:00:01\r\u001b[K     |█████████████████████▊          | 614kB 12.8MB/s eta 0:00:01\r\u001b[K     |██████████████████████          | 624kB 12.8MB/s eta 0:00:01\r\u001b[K     |██████████████████████▌         | 634kB 12.8MB/s eta 0:00:01\r\u001b[K     |██████████████████████▉         | 645kB 12.8MB/s eta 0:00:01\r\u001b[K     |███████████████████████▏        | 655kB 12.8MB/s eta 0:00:01\r\u001b[K     |███████████████████████▌        | 665kB 12.8MB/s eta 0:00:01\r\u001b[K     |████████████████████████        | 675kB 12.8MB/s eta 0:00:01\r\u001b[K     |████████████████████████▎       | 686kB 12.8MB/s eta 0:00:01\r\u001b[K     |████████████████████████▋       | 696kB 12.8MB/s eta 0:00:01\r\u001b[K     |█████████████████████████       | 706kB 12.8MB/s eta 0:00:01\r\u001b[K     |█████████████████████████▍      | 716kB 12.8MB/s eta 0:00:01\r\u001b[K     |█████████████████████████▊      | 727kB 12.8MB/s eta 0:00:01\r\u001b[K     |██████████████████████████      | 737kB 12.8MB/s eta 0:00:01\r\u001b[K     |██████████████████████████▍     | 747kB 12.8MB/s eta 0:00:01\r\u001b[K     |██████████████████████████▉     | 757kB 12.8MB/s eta 0:00:01\r\u001b[K     |███████████████████████████▏    | 768kB 12.8MB/s eta 0:00:01\r\u001b[K     |███████████████████████████▌    | 778kB 12.8MB/s eta 0:00:01\r\u001b[K     |████████████████████████████    | 788kB 12.8MB/s eta 0:00:01\r\u001b[K     |████████████████████████████▎   | 798kB 12.8MB/s eta 0:00:01\r\u001b[K     |████████████████████████████▋   | 808kB 12.8MB/s eta 0:00:01\r\u001b[K     |█████████████████████████████   | 819kB 12.8MB/s eta 0:00:01\r\u001b[K     |█████████████████████████████▍  | 829kB 12.8MB/s eta 0:00:01\r\u001b[K     |█████████████████████████████▊  | 839kB 12.8MB/s eta 0:00:01\r\u001b[K     |██████████████████████████████  | 849kB 12.8MB/s eta 0:00:01\r\u001b[K     |██████████████████████████████▍ | 860kB 12.8MB/s eta 0:00:01\r\u001b[K     |██████████████████████████████▉ | 870kB 12.8MB/s eta 0:00:01\r\u001b[K     |███████████████████████████████▏| 880kB 12.8MB/s eta 0:00:01\r\u001b[K     |███████████████████████████████▌| 890kB 12.8MB/s eta 0:00:01\r\u001b[K     |███████████████████████████████▉| 901kB 12.8MB/s eta 0:00:01\r\u001b[K     |████████████████████████████████| 911kB 12.8MB/s \n",
            "\u001b[?25hRequirement already satisfied: urllib3 in /usr/local/lib/python3.6/dist-packages (from selenium) (1.24.3)\n",
            "Installing collected packages: selenium\n",
            "Successfully installed selenium-3.141.0\n",
            "Get:1 http://ppa.launchpad.net/c2d4u.team/c2d4u4.0+/ubuntu bionic InRelease [15.9 kB]\n",
            "Hit:2 http://archive.ubuntu.com/ubuntu bionic InRelease\n",
            "Get:3 http://archive.ubuntu.com/ubuntu bionic-updates InRelease [88.7 kB]\n",
            "Get:4 http://security.ubuntu.com/ubuntu bionic-security InRelease [88.7 kB]\n",
            "Get:5 https://cloud.r-project.org/bin/linux/ubuntu bionic-cran40/ InRelease [3,626 B]\n",
            "Hit:6 http://ppa.launchpad.net/graphics-drivers/ppa/ubuntu bionic InRelease\n",
            "Get:7 http://archive.ubuntu.com/ubuntu bionic-backports InRelease [74.6 kB]\n",
            "Ign:8 https://developer.download.nvidia.com/compute/cuda/repos/ubuntu1804/x86_64  InRelease\n",
            "Ign:9 https://developer.download.nvidia.com/compute/machine-learning/repos/ubuntu1804/x86_64  InRelease\n",
            "Get:10 https://developer.download.nvidia.com/compute/cuda/repos/ubuntu1804/x86_64  Release [697 B]\n",
            "Hit:11 https://developer.download.nvidia.com/compute/machine-learning/repos/ubuntu1804/x86_64  Release\n",
            "Get:12 https://developer.download.nvidia.com/compute/cuda/repos/ubuntu1804/x86_64  Release.gpg [836 B]\n",
            "Get:13 http://security.ubuntu.com/ubuntu bionic-security/main amd64 Packages [1,781 kB]\n",
            "Get:14 http://security.ubuntu.com/ubuntu bionic-security/universe amd64 Packages [1,365 kB]\n",
            "Get:15 http://ppa.launchpad.net/c2d4u.team/c2d4u4.0+/ubuntu bionic/main Sources [1,690 kB]\n",
            "Get:16 http://ppa.launchpad.net/c2d4u.team/c2d4u4.0+/ubuntu bionic/main amd64 Packages [865 kB]\n",
            "Get:17 http://archive.ubuntu.com/ubuntu bionic-updates/universe amd64 Packages [2,130 kB]\n",
            "Get:18 http://archive.ubuntu.com/ubuntu bionic-updates/multiverse amd64 Packages [54.3 kB]\n",
            "Get:19 http://archive.ubuntu.com/ubuntu bionic-updates/restricted amd64 Packages [252 kB]\n",
            "Get:20 http://archive.ubuntu.com/ubuntu bionic-updates/main amd64 Packages [2,208 kB]\n",
            "Ign:22 https://developer.download.nvidia.com/compute/cuda/repos/ubuntu1804/x86_64  Packages\n",
            "Get:22 https://developer.download.nvidia.com/compute/cuda/repos/ubuntu1804/x86_64  Packages [442 kB]\n",
            "Fetched 11.1 MB in 2s (4,983 kB/s)\n",
            "Reading package lists... Done\n",
            "Reading package lists... Done\n",
            "Building dependency tree       \n",
            "Reading state information... Done\n",
            "The following additional packages will be installed:\n",
            "  chromium-browser chromium-browser-l10n chromium-codecs-ffmpeg-extra\n",
            "Suggested packages:\n",
            "  webaccounts-chromium-extension unity-chromium-extension adobe-flashplugin\n",
            "The following NEW packages will be installed:\n",
            "  chromium-browser chromium-browser-l10n chromium-chromedriver\n",
            "  chromium-codecs-ffmpeg-extra\n",
            "0 upgraded, 4 newly installed, 0 to remove and 59 not upgraded.\n",
            "Need to get 80.2 MB of archives.\n",
            "After this operation, 272 MB of additional disk space will be used.\n",
            "Get:1 http://archive.ubuntu.com/ubuntu bionic-updates/universe amd64 chromium-codecs-ffmpeg-extra amd64 86.0.4240.198-0ubuntu0.18.04.1 [1,126 kB]\n",
            "Get:2 http://archive.ubuntu.com/ubuntu bionic-updates/universe amd64 chromium-browser amd64 86.0.4240.198-0ubuntu0.18.04.1 [71.0 MB]\n",
            "Get:3 http://archive.ubuntu.com/ubuntu bionic-updates/universe amd64 chromium-browser-l10n all 86.0.4240.198-0ubuntu0.18.04.1 [3,585 kB]\n",
            "Get:4 http://archive.ubuntu.com/ubuntu bionic-updates/universe amd64 chromium-chromedriver amd64 86.0.4240.198-0ubuntu0.18.04.1 [4,492 kB]\n",
            "Fetched 80.2 MB in 1s (54.1 MB/s)\n",
            "Selecting previously unselected package chromium-codecs-ffmpeg-extra.\n",
            "(Reading database ... 144793 files and directories currently installed.)\n",
            "Preparing to unpack .../chromium-codecs-ffmpeg-extra_86.0.4240.198-0ubuntu0.18.04.1_amd64.deb ...\n",
            "Unpacking chromium-codecs-ffmpeg-extra (86.0.4240.198-0ubuntu0.18.04.1) ...\n",
            "Selecting previously unselected package chromium-browser.\n",
            "Preparing to unpack .../chromium-browser_86.0.4240.198-0ubuntu0.18.04.1_amd64.deb ...\n",
            "Unpacking chromium-browser (86.0.4240.198-0ubuntu0.18.04.1) ...\n",
            "Selecting previously unselected package chromium-browser-l10n.\n",
            "Preparing to unpack .../chromium-browser-l10n_86.0.4240.198-0ubuntu0.18.04.1_all.deb ...\n",
            "Unpacking chromium-browser-l10n (86.0.4240.198-0ubuntu0.18.04.1) ...\n",
            "Selecting previously unselected package chromium-chromedriver.\n",
            "Preparing to unpack .../chromium-chromedriver_86.0.4240.198-0ubuntu0.18.04.1_amd64.deb ...\n",
            "Unpacking chromium-chromedriver (86.0.4240.198-0ubuntu0.18.04.1) ...\n",
            "Setting up chromium-codecs-ffmpeg-extra (86.0.4240.198-0ubuntu0.18.04.1) ...\n",
            "Setting up chromium-browser (86.0.4240.198-0ubuntu0.18.04.1) ...\n",
            "update-alternatives: using /usr/bin/chromium-browser to provide /usr/bin/x-www-browser (x-www-browser) in auto mode\n",
            "update-alternatives: using /usr/bin/chromium-browser to provide /usr/bin/gnome-www-browser (gnome-www-browser) in auto mode\n",
            "Setting up chromium-chromedriver (86.0.4240.198-0ubuntu0.18.04.1) ...\n",
            "Setting up chromium-browser-l10n (86.0.4240.198-0ubuntu0.18.04.1) ...\n",
            "Processing triggers for hicolor-icon-theme (0.17-2) ...\n",
            "Processing triggers for mime-support (3.60ubuntu1) ...\n",
            "Processing triggers for man-db (2.8.3-2ubuntu0.1) ...\n"
          ],
          "name": "stdout"
        }
      ]
    },
    {
      "cell_type": "code",
      "metadata": {
        "id": "I--O6D_SHz_h"
      },
      "source": [
        "from selenium import webdriver\n",
        "from selenium.webdriver.common.by import By\n",
        "from selenium.webdriver.support.ui import WebDriverWait\n",
        "from selenium.webdriver.support import expected_conditions as EC\n",
        "from selenium.common.exceptions import TimeoutException\n",
        "from selenium.common.exceptions import NoSuchElementException\n",
        "\n",
        "import time\n",
        "import json\n",
        "import numpy as np\n",
        "import operator\n",
        "from functools import reduce\n",
        "from multiprocessing import Pool"
      ],
      "execution_count": null,
      "outputs": []
    },
    {
      "cell_type": "code",
      "metadata": {
        "id": "iu1mKyJX3mlE"
      },
      "source": [
        "def init_driver():\n",
        "    option = webdriver.ChromeOptions()\n",
        "    option.add_argument(' — incognito')\n",
        "    option.add_argument('--headless')\n",
        "    option.add_argument('--no-sandbox')\n",
        "    option.add_argument('--disable-dev-shm-usage')\n",
        "    driver = webdriver.Chrome(executable_path='chromedriver', chrome_options=option)\n",
        "    return (driver)"
      ],
      "execution_count": null,
      "outputs": []
    },
    {
      "cell_type": "code",
      "metadata": {
        "id": "aiBD6S_43ryR"
      },
      "source": [
        "def scroll_page(driver, time_sleep=4):\n",
        "\t\"\"\"\n",
        "\tScroll to the bottom of a page.\n",
        "\t\"\"\"\n",
        "\tht=driver.execute_script(\"return document.documentElement.scrollHeight;\")\n",
        "\twhile True:\n",
        "\t\tprev_ht=driver.execute_script(\"return document.documentElement.scrollHeight;\")\n",
        "\t\tdriver.execute_script(\"window.scrollTo(0, document.documentElement.scrollHeight);\")\n",
        "\t\ttime.sleep(time_sleep)\n",
        "\t\tht=driver.execute_script(\"return document.documentElement.scrollHeight;\")\n",
        "\t\tif prev_ht==ht:\n",
        "\t\t\tbreak"
      ],
      "execution_count": null,
      "outputs": []
    },
    {
      "cell_type": "code",
      "metadata": {
        "id": "PusiXqID9liA"
      },
      "source": [
        "def customize_scroll_page(driver, ntimes, time_sleep=5):\n",
        "    for i in range(ntimes):\n",
        "        driver.execute_script(\"window.scrollTo(0, document.documentElement.scrollHeight);\")\n",
        "        time.sleep(time_sleep)"
      ],
      "execution_count": null,
      "outputs": []
    },
    {
      "cell_type": "code",
      "metadata": {
        "id": "OvDL4upS4VNg"
      },
      "source": [
        "def save_json(list_of_dict, path):\n",
        "\twith open(path, 'w') as fout:\n",
        "\t\tjson.dump(list_of_dict , fout)"
      ],
      "execution_count": null,
      "outputs": []
    },
    {
      "cell_type": "code",
      "metadata": {
        "id": "xZflkFXo4ahG"
      },
      "source": [
        "def open_json(json_path):\n",
        "    with open(json_path) as f:\n",
        "        data = json.load(f)\n",
        "    return (data)"
      ],
      "execution_count": null,
      "outputs": []
    },
    {
      "cell_type": "code",
      "metadata": {
        "id": "KHlsQxyo4n_H"
      },
      "source": [
        "def get_vlinks(channel_url, save=False):\n",
        "    channel_url_video = channel_url + '/videos'\n",
        "    driver = init_driver()\n",
        "    driver.get(channel_url_video)\n",
        "    scroll_page(driver)\n",
        "    \n",
        "    vlink_xpath = './/*[@id=\"video-title\"]'\n",
        "    class_name = 'style-scope ytd-grid-video-renderer'\n",
        "    \n",
        "    videos = driver.find_elements_by_class_name(class_name)\n",
        "    vlink_list = list(map(lambda video: video.find_element_by_xpath(vlink_xpath).get_attribute('href'), videos))\n",
        "\n",
        "    if save:\n",
        "        save_json(vlink_list, './data/all_video_links.json')\n",
        "\n",
        "    return (link_list)"
      ],
      "execution_count": null,
      "outputs": []
    },
    {
      "cell_type": "code",
      "metadata": {
        "id": "v6Yp-aKX4o5O"
      },
      "source": [
        "def get_video_info(driver, url_video):\n",
        "    driver.get(url_video)\n",
        "    customize_scroll_page(driver=driver, ntimes=3)\n",
        "\n",
        "    title_xpath = './/*[@id=\"container\"]/h1/yt-formatted-string'\n",
        "    public_date_xpath = './/*[@id=\"date\"]/yt-formatted-string'\n",
        "    event_xpath = './/*[@id=\"text\"]/a'\n",
        "    nview_xpath = './/*[@id=\"count\"]/yt-view-count-renderer/span[1]'\n",
        "    nlike_xpath = '(//yt-formatted-string[@class=\"style-scope ytd-toggle-button-renderer style-text\"])[1]'\n",
        "    ndislike_xpath = '(//yt-formatted-string[@class=\"style-scope ytd-toggle-button-renderer style-text\"])[2]'\n",
        "    ncomment_xpath = './/*[@id=\"count\"]/yt-formatted-string'\n",
        "\n",
        "    def handle_off_comment():\n",
        "        try:\n",
        "            return (driver.find_element_by_xpath(ncomment_xpath).text)\n",
        "        except NoSuchElementException:\n",
        "            return (\"Off\")\n",
        "    \n",
        "    return (\n",
        "        {\n",
        "            \"title\": driver.find_element_by_xpath(title_xpath).text,\n",
        "            \"yid\": url_video.split(\"v=\")[1],\n",
        "            \"puplic_date\": driver.find_element_by_xpath(public_date_xpath).text,\n",
        "            \"event\": driver.find_element_by_xpath(event_xpath).text,\n",
        "            \"nview\": driver.find_element_by_xpath(nview_xpath).text,\n",
        "            \"nlike\": driver.find_element_by_xpath(nlike_xpath).get_attribute('aria-label'),\n",
        "            \"ndislike\": driver.find_element_by_xpath(ndislike_xpath).get_attribute('aria-label'),\n",
        "            \"ncomment\": handle_off_comment()\n",
        "        }\n",
        "    )"
      ],
      "execution_count": null,
      "outputs": []
    },
    {
      "cell_type": "code",
      "metadata": {
        "id": "UulwPFJ19pc1"
      },
      "source": [
        "def get_vinfo(url_video):\n",
        "  \"\"\"\n",
        "  Scrape TED video info from youtube. \n",
        "  Log out the scraping status, whether success or fail.\n",
        "  \"\"\"\n",
        "  log_path = './LOG.txt'\n",
        "\n",
        "  driver = init_driver()\n",
        "  with open(log_path, \"a\") as f:\n",
        "    try:\n",
        "      res = get_video_info(driver, url_video, vid)\n",
        "      f.write(f\"{str(vid)} \\t\\t {url_video}\\n\")\n",
        "    except NoSuchElementException:\n",
        "      f.write(f\"{str(vid)} \\t\\t {url_video} \\t\\t FAIL\\n\")\n",
        "    else:\n",
        "      return(res)\n",
        "    finally:\n",
        "      driver.quit()"
      ],
      "execution_count": null,
      "outputs": []
    },
    {
      "cell_type": "markdown",
      "metadata": {
        "id": "c52zBIjn_w8n"
      },
      "source": [
        "# Get all video urls"
      ]
    },
    {
      "cell_type": "code",
      "metadata": {
        "id": "9gdDKjRNGpw3"
      },
      "source": [
        "if __name__ == \"__main__\":\n",
        "\n",
        "    # Create an empty json file which is info_of_TED_youtube_videos.json to store the result\n",
        "    save_json([], './data/info_of_TED_youtube_videos.json')\n",
        "\n",
        "    # Get all videos of TED channel from video tab\n",
        "    ted_url = 'https://www.youtube.com/c/TED'\n",
        "    need_update_vlinks = get_vlinks(ted_url, save=True)\n",
        "\n",
        "    # need_update_vlinks = open_json('./data/all_video_links.json') # Use it in case you already have this list\n",
        "    total_videos = len(need_update_vlinks)\n",
        "\n",
        "    res_list = open_json('./data/info_of_TED_youtube_videos.json')\n",
        "\n",
        "    start_index, end_index = 0, 10\n",
        "    start_threshold = (total_videos//10)*10\n",
        "    while start_index <= total_videos:\n",
        "      try:\n",
        "        pool = Pool()\n",
        "        data_output = pool.map(get_vinfo, need_update_vlinks[start_index:end_index])\n",
        "      finally:\n",
        "        pool.close()\n",
        "        pool.join()\n",
        "\n",
        "      res_list = res_list + data_output\n",
        "      save_json(res_list, './data/info_of_TED_youtube_videos.json')\n",
        "      \n",
        "      start_index = start_index + 10\n",
        "      end_index = total_videos if start_index == start_threshold else end_index + 10\n",
        "        \n",
        "      print(start_index, end_index)\n"
      ],
      "execution_count": null,
      "outputs": []
    }
  ]
}